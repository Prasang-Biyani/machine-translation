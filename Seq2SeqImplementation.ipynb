{
  "cells": [
    {
      "cell_type": "markdown",
      "metadata": {
        "id": "view-in-github",
        "colab_type": "text"
      },
      "source": [
        "<a href=\"https://colab.research.google.com/github/Prasang-Biyani/machine-translation/blob/main/Seq2SeqImplementation.ipynb\" target=\"_parent\"><img src=\"https://colab.research.google.com/assets/colab-badge.svg\" alt=\"Open In Colab\"/></a>"
      ]
    },
    {
      "cell_type": "markdown",
      "metadata": {
        "id": "fwPL0hIlGKoA"
      },
      "source": [
        "# <font color='red'>**Sequence to sequence implementation**</font>"
      ]
    },
    {
      "cell_type": "markdown",
      "metadata": {
        "id": "QyfZo8fmLOec"
      },
      "source": [
        "## Task -1: Simple Encoder and Decoder\n",
        "Implement simple Encoder-Decoder model"
      ]
    },
    {
      "cell_type": "markdown",
      "metadata": {
        "id": "IvNSZXNkkOkO"
      },
      "source": [
        "1. Download the **Italian** to **English** translation dataset from <a href=\"http://www.manythings.org/anki/ita-eng.zip\">here</a>\n",
        "\n",
        "2. You will find **ita.txt** file in that ZIP, \n",
        "you can read that data using python and preprocess that data this way only: \n",
        "<img src='https://i.imgur.com/z0j79Jf.png'>    \n",
        "    \n",
        "3. You have to implement a simple Encoder and Decoder architecture  \n",
        "\n",
        "4. Use BLEU score as metric to evaluate your model. You can use any loss function you need.\n",
        "\n"
      ]
    },
    {
      "cell_type": "code",
      "execution_count": null,
      "metadata": {
        "colab": {
          "base_uri": "https://localhost:8080/"
        },
        "id": "eCd7hBs1DBlI",
        "outputId": "a00e70c0-6a54-4994-ccc8-f8c9d082df65"
      },
      "outputs": [
        {
          "output_type": "stream",
          "name": "stdout",
          "text": [
            "Mounted at /content/drive\n",
            "/content/drive/My Drive/Seq2Seq\n"
          ]
        }
      ],
      "source": [
        "from google.colab import drive\n",
        "drive.mount('/content/drive')\n",
        "%cd /content/drive/My Drive/Seq2Seq"
      ]
    },
    {
      "cell_type": "code",
      "execution_count": null,
      "metadata": {
        "id": "Hr9QMk05DXWH"
      },
      "outputs": [],
      "source": [
        "# !wget http://www.manythings.org/anki/ita-eng.zip\n",
        "# !unzip *.zip\n",
        "# !wget https://www.dropbox.com/s/ddkmtqz01jc024u/glove.6B.100d.txt"
      ]
    },
    {
      "cell_type": "markdown",
      "metadata": {
        "id": "3k_AlAuKJqVA"
      },
      "source": [
        "<font color='green'>**Load the data**</font>"
      ]
    },
    {
      "cell_type": "code",
      "execution_count": null,
      "metadata": {
        "id": "fU80Ao-AGaob"
      },
      "outputs": [],
      "source": [
        "with open(\"ita.txt\", 'r') as f:\n",
        "  text = f.readlines()"
      ]
    },
    {
      "cell_type": "markdown",
      "metadata": {
        "id": "vmGWTdRmKRph"
      },
      "source": [
        "<font color='green'>**Preprocess data**</font>"
      ]
    },
    {
      "cell_type": "code",
      "execution_count": null,
      "metadata": {
        "id": "9QqElB_nKZos"
      },
      "outputs": [],
      "source": [
        "import pandas as pd\n",
        "import numpy as np\n",
        "\n",
        "# decoder_ip = []\n",
        "# decoder_op = []\n",
        "# encoder = []\n",
        "\n",
        "# english = []\n",
        "# italian = []\n",
        "\n",
        "# for txt in text:\n",
        "#   char_1, char_2 = txt.split('\\t')[:2]\n",
        "#   english.append(char_1)\n",
        "#   italian.append(char_2)\n",
        "\n",
        "\n",
        "# decoder_ip = [\"<start> \" + eng for eng in english]\n",
        "# encoder = [\"<start> \" + ita + \" <end>\" for ita in italian]\n",
        "# decoder_op = [eng + \" <end>\" for eng in english]\n",
        "\n",
        "\n",
        "# df = pd.DataFrame(data={\n",
        "#     \"italian\": italian,\n",
        "#     \"english\": english,\n",
        "#     \"encoder\": encoder,\n",
        "#     \"decoder_ip\": decoder_ip,\n",
        "#     \"decoder_op\": decoder_op\n",
        "# })\n",
        "\n",
        "# df.to_csv('preprocessed.csv', index=False)\n",
        "df = pd.read_csv('preprocessed.csv')\n",
        "max_words_encoder = max([len(sentence.split()) for sentence in df['encoder'].values])\n",
        "max_words_decoder_ip = max([len(sentence.split()) for sentence in df['decoder_ip'].values])\n",
        "max_words_decoder_op = max([len(sentence.split()) for sentence in df['decoder_op'].values])"
      ]
    },
    {
      "cell_type": "markdown",
      "metadata": {
        "id": "S8RDrP4xKabR"
      },
      "source": [
        "## <font color='blue'>**Implement custom encoder decoder**</font>"
      ]
    },
    {
      "cell_type": "markdown",
      "metadata": {
        "id": "A45uc0JILMlV"
      },
      "source": [
        "<font color='blue'>**Encoder**</font>"
      ]
    },
    {
      "cell_type": "code",
      "execution_count": null,
      "metadata": {
        "colab": {
          "base_uri": "https://localhost:8080/"
        },
        "id": "w6U5MV7SGnvv",
        "outputId": "591a0670-840a-438f-ac6c-9948d95cfbfa"
      },
      "outputs": [
        {
          "name": "stdout",
          "output_type": "stream",
          "text": [
            "Collecting tensorflow_addons\n",
            "  Downloading tensorflow_addons-0.16.1-cp37-cp37m-manylinux_2_12_x86_64.manylinux2010_x86_64.whl (1.1 MB)\n",
            "\u001b[?25l\r\u001b[K     |▎                               | 10 kB 30.7 MB/s eta 0:00:01\r\u001b[K     |▋                               | 20 kB 39.0 MB/s eta 0:00:01\r\u001b[K     |▉                               | 30 kB 28.4 MB/s eta 0:00:01\r\u001b[K     |█▏                              | 40 kB 14.4 MB/s eta 0:00:01\r\u001b[K     |█▌                              | 51 kB 12.9 MB/s eta 0:00:01\r\u001b[K     |█▊                              | 61 kB 15.1 MB/s eta 0:00:01\r\u001b[K     |██                              | 71 kB 15.0 MB/s eta 0:00:01\r\u001b[K     |██▍                             | 81 kB 14.6 MB/s eta 0:00:01\r\u001b[K     |██▋                             | 92 kB 16.2 MB/s eta 0:00:01\r\u001b[K     |███                             | 102 kB 14.3 MB/s eta 0:00:01\r\u001b[K     |███▏                            | 112 kB 14.3 MB/s eta 0:00:01\r\u001b[K     |███▌                            | 122 kB 14.3 MB/s eta 0:00:01\r\u001b[K     |███▉                            | 133 kB 14.3 MB/s eta 0:00:01\r\u001b[K     |████                            | 143 kB 14.3 MB/s eta 0:00:01\r\u001b[K     |████▍                           | 153 kB 14.3 MB/s eta 0:00:01\r\u001b[K     |████▊                           | 163 kB 14.3 MB/s eta 0:00:01\r\u001b[K     |█████                           | 174 kB 14.3 MB/s eta 0:00:01\r\u001b[K     |█████▎                          | 184 kB 14.3 MB/s eta 0:00:01\r\u001b[K     |█████▌                          | 194 kB 14.3 MB/s eta 0:00:01\r\u001b[K     |█████▉                          | 204 kB 14.3 MB/s eta 0:00:01\r\u001b[K     |██████▏                         | 215 kB 14.3 MB/s eta 0:00:01\r\u001b[K     |██████▍                         | 225 kB 14.3 MB/s eta 0:00:01\r\u001b[K     |██████▊                         | 235 kB 14.3 MB/s eta 0:00:01\r\u001b[K     |███████                         | 245 kB 14.3 MB/s eta 0:00:01\r\u001b[K     |███████▎                        | 256 kB 14.3 MB/s eta 0:00:01\r\u001b[K     |███████▋                        | 266 kB 14.3 MB/s eta 0:00:01\r\u001b[K     |███████▉                        | 276 kB 14.3 MB/s eta 0:00:01\r\u001b[K     |████████▏                       | 286 kB 14.3 MB/s eta 0:00:01\r\u001b[K     |████████▌                       | 296 kB 14.3 MB/s eta 0:00:01\r\u001b[K     |████████▊                       | 307 kB 14.3 MB/s eta 0:00:01\r\u001b[K     |█████████                       | 317 kB 14.3 MB/s eta 0:00:01\r\u001b[K     |█████████▍                      | 327 kB 14.3 MB/s eta 0:00:01\r\u001b[K     |█████████▋                      | 337 kB 14.3 MB/s eta 0:00:01\r\u001b[K     |██████████                      | 348 kB 14.3 MB/s eta 0:00:01\r\u001b[K     |██████████▏                     | 358 kB 14.3 MB/s eta 0:00:01\r\u001b[K     |██████████▌                     | 368 kB 14.3 MB/s eta 0:00:01\r\u001b[K     |██████████▉                     | 378 kB 14.3 MB/s eta 0:00:01\r\u001b[K     |███████████                     | 389 kB 14.3 MB/s eta 0:00:01\r\u001b[K     |███████████▍                    | 399 kB 14.3 MB/s eta 0:00:01\r\u001b[K     |███████████▊                    | 409 kB 14.3 MB/s eta 0:00:01\r\u001b[K     |████████████                    | 419 kB 14.3 MB/s eta 0:00:01\r\u001b[K     |████████████▎                   | 430 kB 14.3 MB/s eta 0:00:01\r\u001b[K     |████████████▌                   | 440 kB 14.3 MB/s eta 0:00:01\r\u001b[K     |████████████▉                   | 450 kB 14.3 MB/s eta 0:00:01\r\u001b[K     |█████████████▏                  | 460 kB 14.3 MB/s eta 0:00:01\r\u001b[K     |█████████████▍                  | 471 kB 14.3 MB/s eta 0:00:01\r\u001b[K     |█████████████▊                  | 481 kB 14.3 MB/s eta 0:00:01\r\u001b[K     |██████████████                  | 491 kB 14.3 MB/s eta 0:00:01\r\u001b[K     |██████████████▎                 | 501 kB 14.3 MB/s eta 0:00:01\r\u001b[K     |██████████████▋                 | 512 kB 14.3 MB/s eta 0:00:01\r\u001b[K     |██████████████▉                 | 522 kB 14.3 MB/s eta 0:00:01\r\u001b[K     |███████████████▏                | 532 kB 14.3 MB/s eta 0:00:01\r\u001b[K     |███████████████▌                | 542 kB 14.3 MB/s eta 0:00:01\r\u001b[K     |███████████████▊                | 552 kB 14.3 MB/s eta 0:00:01\r\u001b[K     |████████████████                | 563 kB 14.3 MB/s eta 0:00:01\r\u001b[K     |████████████████▍               | 573 kB 14.3 MB/s eta 0:00:01\r\u001b[K     |████████████████▋               | 583 kB 14.3 MB/s eta 0:00:01\r\u001b[K     |█████████████████               | 593 kB 14.3 MB/s eta 0:00:01\r\u001b[K     |█████████████████▏              | 604 kB 14.3 MB/s eta 0:00:01\r\u001b[K     |█████████████████▌              | 614 kB 14.3 MB/s eta 0:00:01\r\u001b[K     |█████████████████▉              | 624 kB 14.3 MB/s eta 0:00:01\r\u001b[K     |██████████████████              | 634 kB 14.3 MB/s eta 0:00:01\r\u001b[K     |██████████████████▍             | 645 kB 14.3 MB/s eta 0:00:01\r\u001b[K     |██████████████████▊             | 655 kB 14.3 MB/s eta 0:00:01\r\u001b[K     |███████████████████             | 665 kB 14.3 MB/s eta 0:00:01\r\u001b[K     |███████████████████▎            | 675 kB 14.3 MB/s eta 0:00:01\r\u001b[K     |███████████████████▌            | 686 kB 14.3 MB/s eta 0:00:01\r\u001b[K     |███████████████████▉            | 696 kB 14.3 MB/s eta 0:00:01\r\u001b[K     |████████████████████▏           | 706 kB 14.3 MB/s eta 0:00:01\r\u001b[K     |████████████████████▍           | 716 kB 14.3 MB/s eta 0:00:01\r\u001b[K     |████████████████████▊           | 727 kB 14.3 MB/s eta 0:00:01\r\u001b[K     |█████████████████████           | 737 kB 14.3 MB/s eta 0:00:01\r\u001b[K     |█████████████████████▎          | 747 kB 14.3 MB/s eta 0:00:01\r\u001b[K     |█████████████████████▋          | 757 kB 14.3 MB/s eta 0:00:01\r\u001b[K     |█████████████████████▉          | 768 kB 14.3 MB/s eta 0:00:01\r\u001b[K     |██████████████████████▏         | 778 kB 14.3 MB/s eta 0:00:01\r\u001b[K     |██████████████████████▌         | 788 kB 14.3 MB/s eta 0:00:01\r\u001b[K     |██████████████████████▊         | 798 kB 14.3 MB/s eta 0:00:01\r\u001b[K     |███████████████████████         | 808 kB 14.3 MB/s eta 0:00:01\r\u001b[K     |███████████████████████▍        | 819 kB 14.3 MB/s eta 0:00:01\r\u001b[K     |███████████████████████▋        | 829 kB 14.3 MB/s eta 0:00:01\r\u001b[K     |████████████████████████        | 839 kB 14.3 MB/s eta 0:00:01\r\u001b[K     |████████████████████████▏       | 849 kB 14.3 MB/s eta 0:00:01\r\u001b[K     |████████████████████████▌       | 860 kB 14.3 MB/s eta 0:00:01\r\u001b[K     |████████████████████████▉       | 870 kB 14.3 MB/s eta 0:00:01\r\u001b[K     |█████████████████████████       | 880 kB 14.3 MB/s eta 0:00:01\r\u001b[K     |█████████████████████████▍      | 890 kB 14.3 MB/s eta 0:00:01\r\u001b[K     |█████████████████████████▊      | 901 kB 14.3 MB/s eta 0:00:01\r\u001b[K     |██████████████████████████      | 911 kB 14.3 MB/s eta 0:00:01\r\u001b[K     |██████████████████████████▎     | 921 kB 14.3 MB/s eta 0:00:01\r\u001b[K     |██████████████████████████▌     | 931 kB 14.3 MB/s eta 0:00:01\r\u001b[K     |██████████████████████████▉     | 942 kB 14.3 MB/s eta 0:00:01\r\u001b[K     |███████████████████████████▏    | 952 kB 14.3 MB/s eta 0:00:01\r\u001b[K     |███████████████████████████▍    | 962 kB 14.3 MB/s eta 0:00:01\r\u001b[K     |███████████████████████████▊    | 972 kB 14.3 MB/s eta 0:00:01\r\u001b[K     |████████████████████████████    | 983 kB 14.3 MB/s eta 0:00:01\r\u001b[K     |████████████████████████████▎   | 993 kB 14.3 MB/s eta 0:00:01\r\u001b[K     |████████████████████████████▋   | 1.0 MB 14.3 MB/s eta 0:00:01\r\u001b[K     |████████████████████████████▉   | 1.0 MB 14.3 MB/s eta 0:00:01\r\u001b[K     |█████████████████████████████▏  | 1.0 MB 14.3 MB/s eta 0:00:01\r\u001b[K     |█████████████████████████████▌  | 1.0 MB 14.3 MB/s eta 0:00:01\r\u001b[K     |█████████████████████████████▊  | 1.0 MB 14.3 MB/s eta 0:00:01\r\u001b[K     |██████████████████████████████  | 1.1 MB 14.3 MB/s eta 0:00:01\r\u001b[K     |██████████████████████████████▍ | 1.1 MB 14.3 MB/s eta 0:00:01\r\u001b[K     |██████████████████████████████▋ | 1.1 MB 14.3 MB/s eta 0:00:01\r\u001b[K     |███████████████████████████████ | 1.1 MB 14.3 MB/s eta 0:00:01\r\u001b[K     |███████████████████████████████▏| 1.1 MB 14.3 MB/s eta 0:00:01\r\u001b[K     |███████████████████████████████▌| 1.1 MB 14.3 MB/s eta 0:00:01\r\u001b[K     |███████████████████████████████▉| 1.1 MB 14.3 MB/s eta 0:00:01\r\u001b[K     |████████████████████████████████| 1.1 MB 14.3 MB/s \n",
            "\u001b[?25hRequirement already satisfied: typeguard>=2.7 in /usr/local/lib/python3.7/dist-packages (from tensorflow_addons) (2.7.1)\n",
            "Installing collected packages: tensorflow-addons\n",
            "Successfully installed tensorflow-addons-0.16.1\n"
          ]
        }
      ],
      "source": [
        "%tensorflow_version 2.x\n",
        "%load_ext tensorboard\n",
        "!pip install tensorflow_addons"
      ]
    },
    {
      "cell_type": "code",
      "execution_count": null,
      "metadata": {
        "id": "9C4yaVywfr10"
      },
      "outputs": [],
      "source": [
        "from sklearn.model_selection import train_test_split\n",
        "\n",
        "X_train, X_test = train_test_split(df, test_size=0.2, random_state=101)"
      ]
    },
    {
      "cell_type": "code",
      "execution_count": null,
      "metadata": {
        "id": "uDHJSUNJck1a"
      },
      "outputs": [],
      "source": [
        "from tensorflow.keras.preprocessing.text import Tokenizer\n",
        "from tensorflow.keras.preprocessing.sequence import pad_sequences"
      ]
    },
    {
      "cell_type": "code",
      "execution_count": null,
      "metadata": {
        "id": "FLTXiQjumdck"
      },
      "outputs": [],
      "source": [
        "encoder_tokenizer = Tokenizer(filters='\"#$%&()*+,-/:;=?@[\\\\]^`{|}~\\t\\n')\n",
        "encoder_tokenizer.fit_on_texts(X_train['encoder'].values)\n",
        "\n",
        "vocab_size_encoder = len(encoder_tokenizer.word_index) + 1\n",
        "\n",
        "train_encoder_sequences = encoder_tokenizer.texts_to_sequences(X_train['encoder'].values)\n",
        "test_encoder_sequences = encoder_tokenizer.texts_to_sequences(X_test['encoder'].values)\n",
        "\n",
        "# padding sequences\n",
        "train_encoder_padded = pad_sequences(train_encoder_sequences, padding='post', maxlen=max_words_encoder)\n",
        "test_encoder_padded = pad_sequences(test_encoder_sequences, padding='post', maxlen=max_words_encoder)"
      ]
    },
    {
      "cell_type": "code",
      "execution_count": null,
      "metadata": {
        "id": "-Ykd99KqlzZ5"
      },
      "outputs": [],
      "source": [
        "decoder_ip_tokenizer = Tokenizer(filters='\"#$%&()*+,-/:;=?@[\\\\]^`{|}~\\t\\n')\n",
        "decoder_ip_tokenizer.fit_on_texts(X_train['decoder_ip'].values)\n",
        "\n",
        "vocab_size_decoder_ip = len(decoder_ip_tokenizer.word_index) + 1\n",
        "\n",
        "train_decoder_ip_sequences = decoder_ip_tokenizer.texts_to_sequences(X_train['decoder_ip'].values)\n",
        "test_decoder_ip_sequences = decoder_ip_tokenizer.texts_to_sequences(X_test['decoder_ip'].values)\n",
        "\n",
        "#padding sequences\n",
        "train_decoder_padded_ip= pad_sequences(train_decoder_ip_sequences, padding='post', maxlen=max_words_decoder_ip)\n",
        "test_decoder_padded_ip = pad_sequences(test_decoder_ip_sequences, padding='post', maxlen=max_words_decoder_ip)"
      ]
    },
    {
      "cell_type": "code",
      "execution_count": null,
      "metadata": {
        "id": "Bi4RUPmg5IaQ"
      },
      "outputs": [],
      "source": [
        "decoder_op_tokenizer = Tokenizer(filters='\"#$%&()*+,-/:;=?@[\\\\]^`{|}~\\t\\n')\n",
        "decoder_op_tokenizer.fit_on_texts(X_train['decoder_op'].values)\n",
        "\n",
        "vocab_size_decoder_op = len(decoder_op_tokenizer.word_index) + 1\n",
        "\n",
        "train_decoder_op_sequences = decoder_op_tokenizer.texts_to_sequences(X_train['decoder_op'].values)\n",
        "test_decoder_op_sequences = decoder_op_tokenizer.texts_to_sequences(X_test['decoder_op'].values)\n",
        "\n",
        "#padding sequences\n",
        "train_decoder_padded_op = pad_sequences(train_decoder_op_sequences, padding='post', maxlen=max_words_decoder_op)\n",
        "test_decoder_padded_op = pad_sequences(test_decoder_op_sequences, padding='post', maxlen=max_words_decoder_op)"
      ]
    },
    {
      "cell_type": "code",
      "execution_count": null,
      "metadata": {
        "id": "h96rplW_KLJp"
      },
      "outputs": [],
      "source": [
        "embeddings_index = dict()\n",
        "f = open('glove.6B.100d.txt')\n",
        "for line in f:\n",
        "    values = line.split()\n",
        "    word = values[0]\n",
        "    coefs = np.asarray(values[1:], dtype='float32')\n",
        "    embeddings_index[word] = coefs\n",
        "f.close()\n",
        "\n",
        "embedding_matrix = np.zeros((vocab_size_decoder_ip, 100))\n",
        "for word, i in decoder_ip_tokenizer.word_index.items():\n",
        "    embedding_vector = embeddings_index.get(word)\n",
        "    if embedding_vector is not None:\n",
        "        embedding_matrix[i] = embedding_vector"
      ]
    },
    {
      "cell_type": "code",
      "execution_count": null,
      "metadata": {
        "colab": {
          "base_uri": "https://localhost:8080/"
        },
        "id": "CIkkI7RROYZ_",
        "outputId": "4bb67236-a8bb-46ed-a4f1-c499f9b3445d"
      },
      "outputs": [
        {
          "data": {
            "text/plain": [
              "(19464, 100)"
            ]
          },
          "execution_count": 12,
          "metadata": {},
          "output_type": "execute_result"
        }
      ],
      "source": [
        "embedding_matrix.shape"
      ]
    },
    {
      "cell_type": "code",
      "execution_count": null,
      "metadata": {
        "id": "RlyFvIFwVnWa"
      },
      "outputs": [],
      "source": [
        "import tensorflow as tf\n",
        "from tensorflow.keras.layers import Embedding, Dense, Flatten, concatenate, LSTM, Dropout, ConvLSTM1D, Conv1D\n",
        "import tensorflow.keras.backend as K\n",
        "import tensorflow_addons as tfa\n",
        "import numpy as np"
      ]
    },
    {
      "cell_type": "code",
      "execution_count": null,
      "metadata": {
        "id": "9cex2XfCLOew"
      },
      "outputs": [],
      "source": [
        "class Encoder(tf.keras.Model):\n",
        "    '''\n",
        "    Encoder model -- That takes a input sequence and returns encoder-outputs, encoder_final_state_h, encoder_final_state_c\n",
        "    '''\n",
        "\n",
        "    def __init__(self, inp_vocab_size, embedding_size, lstm_size, input_length):\n",
        "\n",
        "        super().__init__()\n",
        "        #Initialize Embedding layer\n",
        "        #Intialize Encoder LSTM layer\n",
        "        self.vocab_size = inp_vocab_size\n",
        "        self.embedding_dim = embedding_size\n",
        "        self.input_length = input_length\n",
        "        self.lstm_units = lstm_size\n",
        "        self.lstm_output = 0\n",
        "        self.lstm_state_h = 0\n",
        "        self.lstm_state_c = 0\n",
        "\n",
        "        self.embedding = Embedding(input_dim=self.vocab_size, output_dim=self.embedding_dim, input_length=self.input_length,\n",
        "                           mask_zero=True, name=\"embedding_layer_encoder\", trainable=True)\n",
        "        self.lstm_encoder = LSTM(self.lstm_units, return_state=True, return_sequences=True, name=\"Encoder_LSTM\")\n",
        "\n",
        "\n",
        "    def call(self, input_sequence, states=[0, 0]):\n",
        "        '''\n",
        "          This function takes a sequence input and the initial states of the encoder.\n",
        "          Pass the input_sequence input to the Embedding layer, Pass the embedding layer ouput to encoder_lstm\n",
        "          returns -- encoder_output, last time step's hidden and cell state\n",
        "        '''\n",
        "        input_embeddings = self.embedding(input_sequence)\n",
        "        self.lstm_output, self.lstm_state_h, self.lstm_state_c = self.lstm_encoder(input_embeddings)\n",
        "        return self.lstm_output, self.lstm_state_h, self.lstm_state_c    \n",
        "\n",
        "    \n",
        "    def initialize_states(self, batch_size):\n",
        "      '''\n",
        "      Given a batch size it will return intial hidden state and intial cell state.\n",
        "      If batch size is 32- Hidden state is zeros of size [32,lstm_units], cell state zeros is of size [32,lstm_units]\n",
        "      '''\n",
        "      self.lstm_output = np.zeros((batch_size, self.lstm_units))\n",
        "      self.lstm_state_h = np.zeros((batch_size, self.lstm_units))\n",
        "      self.lstm_state_c = np.zeros((batch_size, self.lstm_units))\n",
        "      return self.lstm_state_h, self.lstm_state_c\n",
        "      \n"
      ]
    },
    {
      "cell_type": "code",
      "execution_count": null,
      "metadata": {
        "id": "x1ES1-sJLOe4"
      },
      "outputs": [],
      "source": [
        "class Decoder(tf.keras.Model):\n",
        "    '''\n",
        "    Decoder model -- That takes a input sequence and returns output sequence\n",
        "    '''\n",
        "\n",
        "    def __init__(self, out_vocab_size, embedding_size, lstm_size, input_length):\n",
        "\n",
        "        super().__init__()\n",
        "        #Initialize Embedding layer\n",
        "        #Intialize Decoder LSTM layer\n",
        "        self.vocab_size = out_vocab_size\n",
        "        self.embedding_size = embedding_size\n",
        "        self.lstm_size = lstm_size\n",
        "        self.input_length = input_length\n",
        "        if self.embedding_size == 100:\n",
        "          self.embedding = Embedding(input_dim=self.vocab_size, output_dim=self.embedding_size, input_length=self.input_length,\n",
        "                           mask_zero=True, name=\"embedding_layer_decoder\", trainable=False, weights=[embedding_matrix])\n",
        "        else:\n",
        "          self.embedding = Embedding(input_dim=self.vocab_size, output_dim=self.embedding_size, input_length=self.input_length,\n",
        "                           mask_zero=True, name=\"embedding_layer_decoder\", trainable=True)\n",
        "\n",
        "        self.lstm_decoder = LSTM(self.lstm_size, return_sequences=True, return_state=True, name=\"Decoder_LSTM\")        \n",
        "\n",
        "\n",
        "    def call(self, input_sequence, initial_states):\n",
        "        '''\n",
        "          This function takes a sequence input and the initial states of the encoder.\n",
        "          Pass the input_sequence input to the Embedding layer, Pass the embedding layer ouput to decoder_lstm\n",
        "        \n",
        "          returns -- decoder_output,decoder_final_state_h,decoder_final_state_c\n",
        "        '''\n",
        "        target_embedding = self.embedding(input_sequence)\n",
        "        decoder_output, decoder_final_state_h, decoder_final_state_c  = self.lstm_decoder(target_embedding, initial_state=initial_states)\n",
        "        return decoder_output, decoder_final_state_h, decoder_final_state_c"
      ]
    },
    {
      "cell_type": "code",
      "execution_count": null,
      "metadata": {
        "id": "BXrIj4scLOe_"
      },
      "outputs": [],
      "source": [
        "class Encoder_Decoder(tf.keras.Model):\n",
        "    \n",
        "    def __init__(self, **params):\n",
        "        super().__init__()\n",
        "        #Create encoder object\n",
        "        #Create decoder object\n",
        "        #Intialize Dense layer(out_vocab_size) with activation='softmax'\n",
        "\n",
        "        self.batch_size = params['BATCH_SIZE']\n",
        "        self.embedding_size_encoder = params['embedding_size_encoder']\n",
        "        self.embedding_size_decoder = params['embedding_size_decoder']\n",
        "        self.encoder = Encoder(inp_vocab_size=vocab_size_encoder, embedding_size=self.embedding_size_encoder, lstm_size=lstm_size, input_length=max_words_encoder)\n",
        "        self.decoder = Decoder(out_vocab_size=vocab_size_decoder_ip, embedding_size=self.embedding_size_decoder, lstm_size=lstm_size, input_length=max_words_decoder_ip)\n",
        "        self.dense_layer = Dense(vocab_size_decoder_op, activation='softmax')\n",
        "        self.initial_state = self.encoder.initialize_states(self.batch_size)\n",
        "    \n",
        "    def call(self, data):\n",
        "        '''\n",
        "        A. Pass the input sequence to Encoder layer -- Return encoder_output,encoder_final_state_h,encoder_final_state_c\n",
        "        B. Pass the target sequence to Decoder layer with intial states as encoder_final_state_h,encoder_final_state_C\n",
        "        C. Pass the decoder_outputs into Dense layer \n",
        "        \n",
        "        Return decoder_outputs\n",
        "        '''\n",
        "        params = dict()\n",
        "        params['input_sequence'], params['output_sequence'] = data[0], data[1]\n",
        "        encoder_output, encoder_h, encoder_c = self.encoder(params['input_sequence'], [self.initial_state])\n",
        "        decoder_output, decoder_h, decoder_c = self.decoder(params['output_sequence'], [encoder_h, encoder_c])\n",
        "        dense_output = self.dense_layer(decoder_output)\n",
        "        # dense_output = self.time_distrbuted(dense_output)\n",
        "        return dense_output        \n",
        "        "
      ]
    },
    {
      "cell_type": "code",
      "execution_count": null,
      "metadata": {
        "id": "vtW8yxIZQS1s"
      },
      "outputs": [],
      "source": [
        "tf.keras.backend.clear_session()\n",
        "\n",
        "import os\n",
        "import datetime\n",
        "\n",
        "logdir = os.path.join(\"vanilla_encoder_decoder_tensorboard_logs\", datetime.datetime.now().strftime(\"%Y%m%d-%H%M%S\"))\n",
        "tensorboard_callback = tf.keras.callbacks.TensorBoard(logdir, histogram_freq=1)\n",
        "\n",
        "lstm_size=256\n",
        "\n",
        "# Create an object of encoder_decoder Model class, \n",
        "# Compile the model and fit the model\n",
        "\n",
        "model = Encoder_Decoder(BATCH_SIZE=32, embedding_size_encoder=50, embedding_size_decoder=100)\n",
        "model.compile(optimizer=tf.keras.optimizers.Adam(), loss=tf.keras.losses.SparseCategoricalCrossentropy())"
      ]
    },
    {
      "cell_type": "code",
      "execution_count": null,
      "metadata": {
        "colab": {
          "base_uri": "https://localhost:8080/"
        },
        "id": "kcL61dJXLOfB",
        "outputId": "5d767c17-06ff-4072-bd58-0bf909d96569"
      },
      "outputs": [
        {
          "name": "stdout",
          "output_type": "stream",
          "text": [
            "Epoch 1/10\n",
            "552/552 [==============================] - 136s 236ms/step - loss: 0.3404 - val_loss: 0.2947\n",
            "Epoch 2/10\n",
            "552/552 [==============================] - 126s 229ms/step - loss: 0.2699 - val_loss: 0.2413\n",
            "Epoch 3/10\n",
            "552/552 [==============================] - 126s 229ms/step - loss: 0.2197 - val_loss: 0.1991\n",
            "Epoch 4/10\n",
            "552/552 [==============================] - 126s 229ms/step - loss: 0.1829 - val_loss: 0.1713\n",
            "Epoch 5/10\n",
            "552/552 [==============================] - 126s 229ms/step - loss: 0.1556 - val_loss: 0.1486\n",
            "Epoch 6/10\n",
            "552/552 [==============================] - 126s 229ms/step - loss: 0.1333 - val_loss: 0.1304\n",
            "Epoch 7/10\n",
            "552/552 [==============================] - 126s 229ms/step - loss: 0.1151 - val_loss: 0.1165\n",
            "Epoch 8/10\n",
            "552/552 [==============================] - 126s 229ms/step - loss: 0.1001 - val_loss: 0.1060\n",
            "Epoch 9/10\n",
            "552/552 [==============================] - 126s 229ms/step - loss: 0.0877 - val_loss: 0.0959\n",
            "Epoch 10/10\n",
            "552/552 [==============================] - 126s 229ms/step - loss: 0.0775 - val_loss: 0.0883\n"
          ]
        },
        {
          "data": {
            "text/plain": [
              "<keras.callbacks.History at 0x7f6cc9f8cd50>"
            ]
          },
          "execution_count": 99,
          "metadata": {},
          "output_type": "execute_result"
        }
      ],
      "source": [
        "!rm -rf vanilla_encoder_decoder_tensorboard_logs\n",
        "model.fit([train_encoder_padded, train_decoder_padded_ip], train_decoder_padded_op, epochs=10, batch_size=512, \n",
        "          validation_data=([test_encoder_padded, test_decoder_padded_ip], test_decoder_padded_op), callbacks=[tensorboard_callback])"
      ]
    },
    {
      "cell_type": "code",
      "source": [
        "# plot tensorboard graphs"
      ],
      "metadata": {
        "id": "D7ZzYKklsxvh"
      },
      "execution_count": null,
      "outputs": []
    },
    {
      "cell_type": "code",
      "execution_count": null,
      "metadata": {
        "id": "SkARSlZgLOfE"
      },
      "outputs": [],
      "source": [
        "from tqdm import tqdm\n",
        "def predict(input_sentence):\n",
        "\n",
        "  '''\n",
        "  A. Given input sentence, convert the sentence into integers using tokenizer used earlier\n",
        "  B. Pass the input_sequence to encoder. we get encoder_outputs, last time step hidden and cell state\n",
        "  C. Initialize index of <start> as input to decoder. and encoder final states as input_states to decoder\n",
        "  D. till we reach max_length of decoder or till the model predicted word <end>:\n",
        "         predicted_out,state_h,state_c=model.layers[1](dec_input,states)\n",
        "         pass the predicted_out to the dense layer\n",
        "         update the states=[state_h,state_c]\n",
        "         And get the index of the word with maximum probability of the dense layer output, using the tokenizer(word index) get the word and then store it in a string.\n",
        "         Update the input_to_decoder with current predictions\n",
        "  F. Return the predicted sentence\n",
        "  '''\n",
        "  encoder_outputs, encoder_h, encoder_c = model.layers[0](np.expand_dims(input_sentence, 0))\n",
        "  states = [encoder_h, encoder_c]\n",
        "  curr_vector = np.full((1, 1), encoder_tokenizer.word_index['<start>'])\n",
        "  prediction = []\n",
        "  for i in range(test_decoder_padded_ip.shape[1]):\n",
        "    curr_embedding = model.layers[1].embedding(curr_vector)\n",
        "    decoder_output, decoder_h, decoder_c = model.layers[1].lstm_decoder(curr_embedding, states)\n",
        "    states = [decoder_h, decoder_c]\n",
        "    output = model.layers[2](decoder_output)\n",
        "    curr_vector = np.reshape(np.argmax(output), (1, 1))\n",
        "    if curr_vector[0] == decoder_op_tokenizer.word_index['<end>']:\n",
        "      break\n",
        "    prediction.append(curr_vector[0][0])\n",
        "  predicted_word = [decoder_op_tokenizer.index_word[pred] for pred in prediction]\n",
        "  return predicted_word"
      ]
    },
    {
      "cell_type": "code",
      "execution_count": null,
      "metadata": {
        "id": "OsK3_RL4za5i"
      },
      "outputs": [],
      "source": [
        "np.random.seed(101)\n",
        "indexes = np.random.permutation(1000)\n",
        "predicted_thousand_sentences = [\" \".join(predict(test_encoder_padded[index])) for index in indexes]\n",
        "original_thousand_sentences = [X_test['english'].iloc[index] for index in indexes]"
      ]
    },
    {
      "cell_type": "code",
      "execution_count": null,
      "metadata": {
        "colab": {
          "base_uri": "https://localhost:8080/"
        },
        "id": "dJpyLZwhjDyX",
        "outputId": "44353c41-f793-4c14-fc5d-0d21f5cb488d"
      },
      "outputs": [
        {
          "data": {
            "text/plain": [
              "(\"We're unusual.\", \"we're unusual.\")"
            ]
          },
          "execution_count": 125,
          "metadata": {},
          "output_type": "execute_result"
        }
      ],
      "source": [
        "original_thousand_sentences[0], predicted_thousand_sentences[0]"
      ]
    },
    {
      "cell_type": "code",
      "execution_count": null,
      "metadata": {
        "colab": {
          "base_uri": "https://localhost:8080/"
        },
        "id": "996pFO8BLOfG",
        "outputId": "4f670302-73c4-4eb7-8f62-753dd3489b0c"
      },
      "outputs": [
        {
          "name": "stderr",
          "output_type": "stream",
          "text": [
            "/usr/local/lib/python3.7/dist-packages/nltk/translate/bleu_score.py:490: UserWarning: \n",
            "Corpus/Sentence contains 0 counts of 2-gram overlaps.\n",
            "BLEU scores might be undesirable; use SmoothingFunction().\n",
            "  warnings.warn(_msg)\n"
          ]
        },
        {
          "name": "stdout",
          "output_type": "stream",
          "text": [
            "0.8293736751504862\n"
          ]
        }
      ],
      "source": [
        "# Predict on 1000 random sentences on test data and calculate the average BLEU score of these sentences.\n",
        "# https://www.nltk.org/_modules/nltk/translate/bleu_score.html\n",
        "\n",
        "import nltk.translate.bleu_score as bleu\n",
        "avg_bleu = sum([bleu.sentence_bleu(reference, translated) for reference, translated in zip(original_thousand_sentences, predicted_thousand_sentences)]) / 1000\n",
        "print(avg_bleu)"
      ]
    },
    {
      "cell_type": "markdown",
      "metadata": {
        "id": "CxWFDxZXLOfJ"
      },
      "source": [
        " "
      ]
    },
    {
      "cell_type": "markdown",
      "metadata": {
        "id": "yZhX3K9GLOfJ"
      },
      "source": [
        "## Task -2: Including Attention mechanisum"
      ]
    },
    {
      "cell_type": "markdown",
      "metadata": {
        "id": "Q3d7GeBMGbsJ"
      },
      "source": [
        "1. Use the preprocessed data from Task-1\n",
        "\n",
        "2. You have to implement an Encoder and Decoder architecture with  \n",
        "attention as discussed in the reference notebook.\n",
        "\n",
        "    * Encoder   - with 1 layer LSTM <br>\n",
        "    * Decoder   - with 1 layer LSTM<br>\n",
        "    * attention \n",
        "3. In Global attention, we have 3 types of scoring functions(as discussed in the reference notebook).\n",
        " As a part of this assignment **you need to create 3 models for each scoring function**\n",
        "<img src='https://i.imgur.com/iD2jZo3.png'>\n",
        "\n",
        "    * In model 1 you need to implemnt \"dot\" score function\n",
        "    * In model 2 you need to implemnt \"general\" score function\n",
        "    * In model 3 you need to implemnt \"concat\" score function.<br>\n",
        "    \n",
        " **Please do add the markdown titles for each model so that we can have a better look at the code and verify.**\n",
        "4. It is mandatory to train the model with simple model.fit() only, Donot train the model with custom GradientTape()\n",
        "\n",
        "5. Using attention weights, you can plot the attention plots, \n",
        "please plot those for 2-3 examples. You can check about those in <a href=\"https://www.tensorflow.org/tutorials/text/nmt_with_attention#translate\">this</a>\n",
        "\n",
        "6. The attention layer has to be written by yourself only. \n",
        "The main objective of this assignment is to read and implement a paper on yourself so please do it yourself.  \n",
        "\n",
        "7. Please implement the class **onestepdecoder** as mentioned in the assignment instructions.\n",
        "\n",
        "8. You can use any tf.Keras highlevel API's to build and train the models. \n",
        " Check the reference notebook for better understanding.\n",
        "\n",
        "9. Use BLEU score as metric to evaluate your model. You can use any loss function you need.\n",
        "\n",
        "10. You have to use Tensorboard to plot the Graph, Scores and histograms of gradients. \n",
        "\n",
        "11. Resources:\n",
        "    a. Check the reference notebook\n",
        "    b. <a href=\"https://jalammar.github.io/visualizing-neural-machine-translation-mechanics-of-seq2seq-models-with-attention/\">Resource 1</a>\n",
        "    c. <a href=\"https://www.tensorflow.org/tutorials/text/nmt_with_attention\">Resource 2</a>\n",
        "    d. <a href=\"https://stackoverflow.com/questions/44238154/what-is-the-difference-between-luong-attention-and-bahdanau-attention#:~:text=Luong%20attention%20used%20top%20hidden,hidden%20state%20at%20time%20t.\">Resource 3</a>\n",
        "    "
      ]
    },
    {
      "cell_type": "markdown",
      "metadata": {
        "id": "PU4KIsGxLOfK"
      },
      "source": [
        "### <font color='blue'>**Implement custom encoder decoder and attention layers**</font>"
      ]
    },
    {
      "cell_type": "markdown",
      "metadata": {
        "id": "TMm3ADQDLOfK"
      },
      "source": [
        "<font color='blue'>**Encoder**</font>"
      ]
    },
    {
      "cell_type": "code",
      "execution_count": null,
      "metadata": {
        "id": "Lx_5NA24KzRp"
      },
      "outputs": [],
      "source": [
        "class Encoder(tf.keras.Model):\n",
        "    '''\n",
        "    Encoder model -- That takes a input sequence and returns output sequence\n",
        "    '''\n",
        "\n",
        "    def __init__(self,inp_vocab_size,embedding_size,lstm_size,input_length):\n",
        "\n",
        "        #Initialize Embedding layer\n",
        "        #Intialize Encoder LSTM layer\n",
        "        super().__init__()\n",
        "        self.vocab_size = inp_vocab_size\n",
        "        self.embedding_dim = embedding_size\n",
        "        self.lstm_units = lstm_size\n",
        "        self.input_length = input_length\n",
        "        self.lstm_output = 0\n",
        "        self.lstm_state_h = 0\n",
        "        self.lstm_state_c = 0\n",
        "\n",
        "        self.embedding = Embedding(input_dim=self.vocab_size, output_dim=self.embedding_dim, input_length=self.input_length, trainable=True)\n",
        "        self.lstm = LSTM(self.lstm_units, return_state=True, return_sequences=True, name=\"Encoder_LSTM\")\n",
        "\n",
        "\n",
        "    def call(self, input_sequence, states=[0, 0]):\n",
        "\n",
        "      '''\n",
        "          This function takes a sequence input and the initial states of the encoder.\n",
        "          Pass the input_sequence input to the Embedding layer, Pass the embedding layer ouput to encoder_lstm\n",
        "          returns -- All encoder_outputs, last time steps hidden and cell state\n",
        "      '''\n",
        "      input_embeddings = self.embedding(input_sequence)\n",
        "      self.lstm_output, self.lstm_state_h, self.lstm_state_c = self.lstm(input_embeddings)\n",
        "      return self.lstm_output, self.lstm_state_h, self.lstm_state_c   \n",
        "    \n",
        "    def initialize_states(self, batch_size):\n",
        "      '''\n",
        "      Given a batch size it will return intial hidden state and intial cell state.\n",
        "      If batch size is 32- Hidden state is zeros of size [32,lstm_units], cell state zeros is of size [32,lstm_units]\n",
        "      '''\n",
        "      self.lstm_output = np.zeros((batch_size, self.lstm_units))\n",
        "      self.lstm_state_h = np.zeros((batch_size, self.lstm_units))\n",
        "      self.lstm_state_c = np.zeros((batch_size, self.lstm_units))\n",
        "\n",
        "      return self.lstm_state_h, self.lstm_state_c"
      ]
    },
    {
      "cell_type": "markdown",
      "metadata": {
        "id": "lXn278lhLYRM"
      },
      "source": [
        "<font color='blue'>**Attention**</font>"
      ]
    },
    {
      "cell_type": "code",
      "execution_count": null,
      "metadata": {
        "id": "ab5SNdPZLlur"
      },
      "outputs": [],
      "source": [
        "# from tensorflow.python.ops.numpy_ops import np_config\n",
        "# np_config.enable_numpy_behavior()\n",
        "class Attention(tf.keras.layers.Layer):\n",
        "  '''\n",
        "    Class the calculates score based on the scoring_function using Bahdanu attention mechanism.\n",
        "  '''\n",
        "  def __init__(self, scoring_function, att_units):\n",
        "\n",
        "    # Please go through the reference notebook and research paper to complete the scoring functions\n",
        "    super(Attention, self).__init__()\n",
        "\n",
        "    self.att_units = att_units\n",
        "    self.scoring_function = scoring_function\n",
        "    self.context = None\n",
        "    self.attention_weights = None\n",
        "\n",
        "    if self.scoring_function == 'dot':\n",
        "      # Intialize variables needed for Dot score function here\n",
        "      self.V = tf.keras.layers.Dense(1)\n",
        "    if scoring_function == 'general':\n",
        "      # Intialize variables needed for General score function here\n",
        "      self.W = tf.keras.layers.Dense(self.att_units)\n",
        "      self.V = tf.keras.layers.Dense(1)\n",
        "    elif scoring_function == 'concat':\n",
        "      # Intialize variables needed for Concat score function here\n",
        "      self.W1 = tf.keras.layers.Dense(self.att_units)\n",
        "      self.W2 = tf.keras.layers.Dense(self.att_units)\n",
        "      self.V = tf.keras.layers.Dense(1)\n",
        "  \n",
        "  def call(self, decoder_hidden_state, encoder_output):\n",
        "    '''\n",
        "      Attention mechanism takes two inputs current step -- decoder_hidden_state and all the encoder_outputs.\n",
        "      * Based on the scoring function we will find the score or similarity between decoder_hidden_state and encoder_output.\n",
        "        Multiply the score function with your encoder_outputs to get the context vector.\n",
        "        Function returns context vector and attention weights(softmax - scores)\n",
        "    '''\n",
        "    \n",
        "    if self.scoring_function == 'dot':\n",
        "        # Implement Dot score function here\n",
        "        score = []\n",
        "        # expanding decoder_hidden_state at 2nd axis\n",
        "        decoder_hidden_state = tf.expand_dims(decoder_hidden_state, 1)\n",
        "        # print(tf.keras.layers.Dot(axes=(1, 2))([encoder_output, tf.transpose(decoder_hidden_state)]).shape)\n",
        "        for batch_id in range(encoder_output.shape[0]):\n",
        "          # score.append(np.dot(encoder_output[batch_id, :,  :], decoder_hidden_state[batch_id, :, :].T))\n",
        "          score.append(tf.tensordot(encoder_output[batch_id, :, :], tf.transpose(decoder_hidden_state[batch_id, :, :]), axes=1))\n",
        "        # score shape == (batch_size, max_length, 1)\n",
        "        self.attention_weights = self.V(tf.convert_to_tensor(score))\n",
        "        # attention_weights shape == (batch_size, max_length, 1)\n",
        "        self.attention_weights = tf.nn.softmax(self.attention_weights, axis=1)\n",
        "        # # context_vector shape == (batch_size, att_units)\n",
        "        self.context_vector = self.attention_weights * encoder_output\n",
        "        self.context_vector = tf.reduce_sum(self.context_vector, axis=1)\n",
        "\n",
        "        return self.context_vector, self.attention_weights\n",
        "\n",
        "    elif self.scoring_function == 'general':\n",
        "        # Implement General score function here\n",
        "        # expanding decoder_hidden_state at 2nd axis\n",
        "        decoder_hidden_state = tf.expand_dims(decoder_hidden_state, 1)\n",
        "        score = self.V(self.W(decoder_hidden_state) * encoder_output)\n",
        "        self.attention_weights = tf.nn.softmax(score, axis=1)\n",
        "        # attention_weights shape == (batch_size, max_length, 1)\n",
        "        self.context_vector = self.attention_weights * encoder_output\n",
        "        self.context_vector = tf.reduce_sum(self.context_vector, axis=1)\n",
        "\n",
        "        return self.context_vector, self.attention_weights\n",
        "\n",
        "    # https://blog.paperspace.com/seq-to-seq-attention-mechanism-keras/#step-7-attention-mechanism-class\n",
        "    elif self.scoring_function == 'concat':\n",
        "      # Implement General score function here\n",
        "      decoder_hidden_state = tf.expand_dims(decoder_hidden_state, 1)\n",
        "      # score shape == (batch_size, max_length, 1)\n",
        "      score = self.V(tf.nn.tanh(\n",
        "        self.W1(decoder_hidden_state) + self.W2(encoder_output)))\n",
        "      # attention_weights shape == (batch_size, max_length, 1)\n",
        "      self.attention_weights = tf.nn.softmax(score, axis=1)\n",
        "      # context_vector shape after sum == (batch_size, hidden_size)\n",
        "      self.context_vector = self.attention_weights * encoder_output\n",
        "      self.context_vector = tf.reduce_sum(self.context_vector, axis=1)\n",
        "\n",
        "      return self.context_vector, self.attention_weights"
      ]
    },
    {
      "cell_type": "markdown",
      "metadata": {
        "id": "ic-FNEbfL2DN"
      },
      "source": [
        "<font color='blue'>**OneStepDecoder**</font>"
      ]
    },
    {
      "cell_type": "code",
      "execution_count": null,
      "metadata": {
        "id": "Kc8m7lmOL097"
      },
      "outputs": [],
      "source": [
        "class One_Step_Decoder(tf.keras.Model):\n",
        "  def __init__(self, tar_vocab_size, embedding_dim, input_length, dec_units, score_fun, att_units):\n",
        "\n",
        "      super(One_Step_Decoder, self).__init__()\n",
        "      self.att_units = att_units\n",
        "      self.scoring_function = score_fun\n",
        "      self.vocab_size = tar_vocab_size\n",
        "      self.embedding_dim = embedding_dim\n",
        "      self.input_length = input_length\n",
        "      self.dec_units = dec_units\n",
        "      # Initialize decoder embedding layer, LSTM and any other objects needed\n",
        "      if self.embedding_dim == 100:\n",
        "          self.embedding = Embedding(input_dim=self.vocab_size, output_dim=self.embedding_dim, input_length=self.input_length,\n",
        "                           mask_zero=True, name=\"embedding_layer_decoder\", trainable=False, weights=[embedding_matrix])\n",
        "      else:\n",
        "          self.embedding = Embedding(input_dim=self.vocab_size, output_dim=self.embedding_dim, input_length=self.input_length,\n",
        "                           mask_zero=True, name=\"embedding_layer_decoder\", trainable=True)\n",
        "      # self.embedding = Embedding(input_dim=self.vocab_size, output_dim=self.embedding_dim, input_length=self.input_length, mask_zero=True)\n",
        "      self.lstm = LSTM(self.dec_units, return_sequences=True, return_state=True)\n",
        "      self.attention = Attention(self.scoring_function, self.att_units)\n",
        "      # self.dense_1 = Dense(self.att_units)\n",
        "      self.dense = Dense(self.vocab_size)\n",
        "\n",
        "  def call(self, input_to_decoder, encoder_output, state_h, state_c):\n",
        "    '''\n",
        "        One step decoder mechanisim step by step:\n",
        "      A. Pass the input_to_decoder to the embedding layer and then get the output(batch_size,1,embedding_dim)\n",
        "      B. Using the encoder_output and decoder hidden state, compute the context vector.\n",
        "      C. Concat the context vector with the step A output\n",
        "      D. Pass the Step-C output to LSTM/GRU and get the decoder output and states(hidden and cell state)\n",
        "      E. Pass the decoder output to dense layer(vocab size) and store the result into output.\n",
        "      F. Return the states from step D, output from Step E, attention weights from Step -B\n",
        "    '''\n",
        "    target_embedding = self.embedding(input_to_decoder)\n",
        "    context_vector, attention_weights = self.attention(state_h, encoder_output)\n",
        "    concatenated = tf.concat([tf.expand_dims(context_vector, 1), target_embedding], axis=-1)\n",
        "    decoder_output, decoder_h, decoder_c = self.lstm(concatenated)\n",
        "    dense = self.dense(decoder_output)\n",
        "    dense = tf.reshape(dense, (-1, dense.shape[2]))\n",
        "    # dense_2 = self.dense_2(dense_1)\n",
        "    # dense = tf.squeeze(dense)\n",
        "    return dense, decoder_h, decoder_c, attention_weights, context_vector\n",
        "\n"
      ]
    },
    {
      "cell_type": "markdown",
      "metadata": {
        "id": "6FHrurjUMGAi"
      },
      "source": [
        "<font color='blue'>**Decoder**</font>"
      ]
    },
    {
      "cell_type": "code",
      "execution_count": null,
      "metadata": {
        "id": "NV-x31rj6Hc4"
      },
      "outputs": [],
      "source": [
        "class Decoder(tf.keras.Model):\n",
        "    def __init__(self, out_vocab_size, embedding_dim, input_length, dec_units, score_fun, att_units):\n",
        "      #Intialize necessary variables and create an object from the class onestepdecoder\n",
        "      super(Decoder, self).__init__()\n",
        "      self.vocab_size = out_vocab_size\n",
        "      self.embedding_dim = embedding_dim\n",
        "      self.input_length = input_length\n",
        "      self.dec_units = dec_units\n",
        "      self.score_fun = score_fun\n",
        "      self.att_units = att_units\n",
        "\n",
        "      self.one_step_decoder = One_Step_Decoder(self.vocab_size, self.embedding_dim, self.input_length,\n",
        "                                               self.dec_units, self.score_fun, self.att_units)     \n",
        "    \n",
        "    @tf.function\n",
        "    def call(self, input_to_decoder, encoder_output, decoder_hidden_state, decoder_cell_state):\n",
        "        #Initialize an empty Tensor array, that will store the outputs at each and every time step\n",
        "        #Create a tensor array as shown in the reference notebook\n",
        "        \n",
        "        #Iterate till the length of the decoder input\n",
        "            # Call onestepdecoder for each token in decoder_input\n",
        "            # Store the output in tensorarray\n",
        "        # Return the tensor array\n",
        "        all_outputs = tf.TensorArray(tf.float32, size=input_to_decoder.shape[1], name='output_arrays')\n",
        "        for time_step in range(input_to_decoder.shape[1]):\n",
        "          output, decoder_hidden_state, _, _, _= self.one_step_decoder(input_to_decoder[:, time_step : time_step + 1], encoder_output, decoder_hidden_state, decoder_cell_state)\n",
        "          # output, decoder_hidden_state, _, _, _= self.one_step_decoder(input_to_decoder, encoder_output, decoder_hidden_state, decoder_cell_state)\n",
        "          all_outputs = all_outputs.write(time_step, output)\n",
        "        all_outputs = tf.transpose(all_outputs.stack(), [1, 0, 2])\n",
        "        # print(all_outputs.shape)\n",
        "        return all_outputs"
      ]
    },
    {
      "cell_type": "markdown",
      "metadata": {
        "id": "fC1T1EOoMTqC"
      },
      "source": [
        "<font color='blue'>**Encoder Decoder model**</font>"
      ]
    },
    {
      "cell_type": "code",
      "execution_count": null,
      "metadata": {
        "id": "FfqBIe20MT3D"
      },
      "outputs": [],
      "source": [
        "class encoder_decoder(tf.keras.Model):\n",
        "  def __init__(self, params):\n",
        "    super(encoder_decoder, self).__init__()\n",
        "    #Intialize objects from encoder decoder\n",
        "    self.input_vocab_size = params['input_vocab_size']\n",
        "    self.encoder_embedding_dim = params['encoder_embedding_dim']\n",
        "    self.lstm_size = params['lstm_size']\n",
        "    self.encoder_input_length = params['encoder_input_length']\n",
        "    self.scoring_function = params['scoring_function']\n",
        "    self.attention_units = params['attention_units']\n",
        "    self.output_vocab_size = params['output_vocab_size']\n",
        "    self.decoder_embedding_dim = params['decoder_embedding_dim']\n",
        "    self.decoder_input_length = params['decoder_input_length']\n",
        "\n",
        "    self.encoder = Encoder(inp_vocab_size=self.input_vocab_size, embedding_size=self.encoder_embedding_dim, \n",
        "                           lstm_size=self.lstm_size, input_length=self.encoder_input_length)\n",
        "    \n",
        "    self.decoder = Decoder(out_vocab_size=self.output_vocab_size, embedding_dim=self.decoder_embedding_dim, \n",
        "                           input_length=self.decoder_input_length,\n",
        "                           dec_units=self.lstm_size, score_fun=self.scoring_function, att_units=self.attention_units)\n",
        "  @tf.function\n",
        "  def call(self, data):\n",
        "    #Intialize encoder states, Pass the encoder_sequence to the embedding layer\n",
        "    # Decoder initial states are encoder final states, Initialize it accordingly\n",
        "    # Pass the decoder sequence,encoder_output,decoder states to Decoder\n",
        "    # return the decoder output\n",
        "    encoder_ip, decoder_ip = data[0], data[1]\n",
        "    encoder_output, encoder_h, encoder_c = self.encoder(encoder_ip)\n",
        "    decoder_output = self.decoder(decoder_ip, encoder_output, encoder_h, encoder_c)\n",
        "    return decoder_output\n",
        "\n"
      ]
    },
    {
      "cell_type": "markdown",
      "metadata": {
        "id": "WVRxB-FDMJWL"
      },
      "source": [
        "<font color='blue'>**Custom loss function**</font>"
      ]
    },
    {
      "cell_type": "code",
      "execution_count": null,
      "metadata": {
        "id": "QY_3izrXMs8y"
      },
      "outputs": [],
      "source": [
        "#https://www.tensorflow.org/tutorials/text/image_captioning#model\n",
        "loss_object = tf.keras.losses.SparseCategoricalCrossentropy(\n",
        "    from_logits=True, reduction='none')\n",
        "\n",
        "\n",
        "def loss_function(real, pred):\n",
        "    \"\"\" Custom loss function that will not consider the loss for padded zeros.\n",
        "    why are we using this, can't we use simple sparse categorical crossentropy?\n",
        "    Yes, you can use simple sparse categorical crossentropy as loss like we did in task-1. But in this loss function we are ignoring the loss\n",
        "    for the padded zeros. i.e when the input is zero then we donot need to worry what the output is. This padded zeros are added from our end\n",
        "    during preprocessing to make equal length for all the sentences.\n",
        "\n",
        "    \"\"\"\n",
        "    mask = tf.math.logical_not(tf.math.equal(real, 0))\n",
        "    loss_ = loss_object(real, pred)\n",
        "\n",
        "    mask = tf.cast(mask, dtype=loss_.dtype)\n",
        "    loss_ *= mask\n",
        "\n",
        "    return tf.reduce_mean(loss_)"
      ]
    },
    {
      "cell_type": "markdown",
      "metadata": {
        "id": "2QlbWAqNNlqe"
      },
      "source": [
        "<font color='blue'>**Training**</font>"
      ]
    },
    {
      "cell_type": "markdown",
      "metadata": {
        "id": "wqtZUQF2NuZE"
      },
      "source": [
        "Implement dot function here."
      ]
    },
    {
      "cell_type": "code",
      "execution_count": null,
      "metadata": {
        "id": "F7h7k0ig044V"
      },
      "outputs": [],
      "source": [
        "tf.keras.backend.clear_session()\n",
        "\n",
        "import os\n",
        "import datetime\n",
        "\n",
        "logdir = os.path.join(\"attention_encoder_decoder_tensorboard_logs\", datetime.datetime.now().strftime(\"%Y%m%d-%H%M%S\"))\n",
        "tensorboard_callback = tf.keras.callbacks.TensorBoard(logdir, histogram_freq=1)"
      ]
    },
    {
      "cell_type": "code",
      "execution_count": null,
      "metadata": {
        "id": "fgyWwZWeMxGQ"
      },
      "outputs": [],
      "source": [
        "# Implement teacher forcing while training your model. You can do it two ways.\n",
        "# Prepare your data, encoder_input,decoder_input and decoder_output\n",
        "# if decoder input is \n",
        "# <start> Hi how are you\n",
        "# decoder output should be\n",
        "# Hi How are you <end>\n",
        "# i.e when you have send <start>-- decoder predicted Hi, 'Hi' decoder predicted 'How' .. e.t.c\n",
        "\n",
        "# or\n",
        " \n",
        "# model.fit([train_ita,train_eng],train_eng[:,1:]..)\n",
        "# Note: If you follow this approach some grader functions might return false and this is fine.\n",
        "params = dict()\n",
        "params['input_vocab_size'] = vocab_size_encoder\n",
        "params['encoder_embedding_dim'] = 100\n",
        "params['lstm_size'] = 64\n",
        "params['encoder_input_length'] = 20\n",
        "params['scoring_function'] = 'dot'\n",
        "params['attention_units'] = 64\n",
        "\n",
        "params['output_vocab_size'] = vocab_size_decoder_ip\n",
        "params['decoder_embedding_dim'] = 100\n",
        "params['decoder_input_length'] = 20\n",
        "\n",
        "model = encoder_decoder(params)\n",
        "model.compile(optimizer=tf.keras.optimizers.Adam(), loss=loss_function, run_eagerly=True)"
      ]
    },
    {
      "cell_type": "code",
      "execution_count": null,
      "metadata": {
        "colab": {
          "base_uri": "https://localhost:8080/"
        },
        "id": "QO6WxT9W0fAD",
        "outputId": "be3895ab-e481-4f1e-fc7a-4c5935c184a3"
      },
      "outputs": [
        {
          "name": "stdout",
          "output_type": "stream",
          "text": [
            "Epoch 1/10\n",
            "4416/4416 [==============================] - 6885s 1s/step - loss: 0.3198 - val_loss: 0.2736\n",
            "Epoch 2/10\n",
            "4416/4416 [==============================] - 6275s 1s/step - loss: 0.2619 - val_loss: 0.2499\n",
            "Epoch 3/10\n",
            "4416/4416 [==============================] - 6261s 1s/step - loss: 0.2415 - val_loss: 0.2341\n",
            "Epoch 4/10\n",
            "4416/4416 [==============================] - 6239s 1s/step - loss: 0.2283 - val_loss: 0.2241\n",
            "Epoch 5/10\n",
            "4416/4416 [==============================] - 6185s 1s/step - loss: 0.2192 - val_loss: 0.2175\n",
            "Epoch 6/10\n",
            "4416/4416 [==============================] - 6125s 1s/step - loss: 0.2124 - val_loss: 0.2135\n",
            "Epoch 7/10\n",
            "4416/4416 [==============================] - 6127s 1s/step - loss: 0.2068 - val_loss: 0.2069\n",
            "Epoch 8/10\n",
            "4416/4416 [==============================] - 6128s 1s/step - loss: 0.2018 - val_loss: 0.2036\n",
            "Epoch 9/10\n",
            "4416/4416 [==============================] - 6085s 1s/step - loss: 0.1974 - val_loss: 0.1993\n",
            "Epoch 10/10\n",
            "4416/4416 [==============================] - 6120s 1s/step - loss: 0.1934 - val_loss: 0.1964\n"
          ]
        },
        {
          "data": {
            "text/plain": [
              "<keras.callbacks.History at 0x7f5981f15a50>"
            ]
          },
          "execution_count": 75,
          "metadata": {},
          "output_type": "execute_result"
        }
      ],
      "source": [
        "!rm -rf attention_encoder_decoder_tensorboard_logs\n",
        "# validation_data=([test_encoder_padded, test_decoder_padded_ip], test_decoder_padded_op)\n",
        "model.fit([train_encoder_padded, train_decoder_padded_ip], train_decoder_padded_op, epochs=10, batch_size=64,\n",
        "          validation_data=([test_encoder_padded, test_decoder_padded_ip], test_decoder_padded_op),\n",
        "          callbacks=[tensorboard_callback])"
      ]
    },
    {
      "cell_type": "markdown",
      "source": [
        "Dot-based attention:\n",
        "1. It is the dot product between the encoder output states and the current decoder \n",
        "state.\n",
        "2. The shape of encoder output states is (batch_size, input_length, lstm_units).\n",
        "3. The shape of the decoder's current state is (batch_size, lstm_units).\n",
        "4. A general rule of the dot product: #columns (first matrix) == #rows (second matrix).\n",
        "5. We add another dimension at axis=1 in the current decoder state to make the dot product easier.\n",
        "6. We are iterating through the #batches and storing them in a list.\n",
        "7. Finally, we calculate attention weights after passing the list on the softmax function.\n",
        "8. A context vector is calculated by the Sum Of Product (SOP) between encoder output states and attention weights."
      ],
      "metadata": {
        "id": "RI0tokmt-8dA"
      }
    },
    {
      "cell_type": "markdown",
      "metadata": {
        "id": "6DpC9zlzMcXp"
      },
      "source": [
        "## <font color='blue'>**Inference**</font>"
      ]
    },
    {
      "cell_type": "markdown",
      "metadata": {
        "id": "Z5NhESYyMW_t"
      },
      "source": [
        "<font color='blue'>**Plot attention weights**</font>"
      ]
    },
    {
      "cell_type": "code",
      "execution_count": null,
      "metadata": {
        "colab": {
          "background_save": true
        },
        "id": "pkEY7SsBMtrC"
      },
      "outputs": [],
      "source": [
        "import matplotlib.pyplot as plt\n",
        "import matplotlib.ticker as ticker\n",
        "\n",
        "def plot_attention(attention, actual_sentence, predicted_sentence):\n",
        "  #Refer: https://www.tensorflow.org/tutorials/text/nmt_with_attention#translate\n",
        "  fig = plt.figure(figsize=(10, 10))\n",
        "  ax = fig.add_subplot(1, 1, 1)\n",
        "  \n",
        "  predicted_sentence.append('<end>')\n",
        "  attention = attention[:len(predicted_sentence), :len(actual_sentence)]\n",
        "  \n",
        "  ax.matshow(attention, cmap='viridis', vmin=0.0)\n",
        "\n",
        "  fontdict = {'fontsize': 14}\n",
        "\n",
        "  ax.set_xticklabels([''] + actual_sentence, fontdict=fontdict, rotation=90)\n",
        "  ax.set_yticklabels([''] + predicted_sentence, fontdict=fontdict)\n",
        "\n",
        "  ax.xaxis.set_major_locator(ticker.MultipleLocator(1))\n",
        "  ax.yaxis.set_major_locator(ticker.MultipleLocator(1))\n",
        "\n",
        "  ax.set_xlabel('Input text')\n",
        "  ax.set_ylabel('Output text')\n",
        "  plt.suptitle('Attention weights')"
      ]
    },
    {
      "cell_type": "markdown",
      "metadata": {
        "id": "e1IhdBrgQYJr"
      },
      "source": [
        "<font color='blue'>**Predict the sentence translation**</font>"
      ]
    },
    {
      "cell_type": "code",
      "execution_count": null,
      "metadata": {
        "colab": {
          "background_save": true
        },
        "id": "MP3kLZoPMvSu"
      },
      "outputs": [],
      "source": [
        "def predict(input_sentence, visualize_attention):\n",
        "  '''\n",
        "  A. Given input sentence, convert the sentence into integers using tokenizer used earlier\n",
        "  B. Pass the input_sequence to encoder. we get encoder_outputs, last time step hidden and cell state\n",
        "  C. Initialize index of <start> as input to decoder. and encoder final states as input_states to onestepdecoder.\n",
        "  D. till we reach max_length of decoder or till the model predicted word <end>:\n",
        "         predictions, input_states, attention_weights = model.layers[1].onestepdecoder(input_to_decoder, encoder_output, input_states)\n",
        "         Save the attention weights\n",
        "         And get the word using the tokenizer(word index) and then store it in a string.\n",
        "  E. Call plot_attention(#params)\n",
        "  F. Return the predicted sentence\n",
        "  '''\n",
        "  encoder_output, encoder_h, encoder_c = model.layers[0](np.expand_dims(input_sentence, 0))\n",
        "  actual_sentence = [encoder_tokenizer.index_word[token] for token in input_sentence if token != 0]\n",
        "  states = [encoder_h, encoder_c]\n",
        "  curr_vector = np.full((1, 1), encoder_tokenizer.word_index['<start>'])\n",
        "  prediction = []\n",
        "  attention_weights_lst = []\n",
        "  for i in range(test_decoder_padded_ip.shape[1]):\n",
        "    decoder_output, decoder_h, decoder_c, attention_weights, context_vector = model.layers[1].one_step_decoder(curr_vector, encoder_output, states[0], states[1])\n",
        "    attention_weights_lst.append(attention_weights)\n",
        "    states = [decoder_h, decoder_c]\n",
        "    # output = model.layers[1](decoder_output)\n",
        "    curr_vector = np.reshape(np.argmax(decoder_output), (1, 1))\n",
        "    if curr_vector[0][0] == decoder_op_tokenizer.word_index['<end>']:\n",
        "      break\n",
        "    prediction.append(curr_vector[0][0])\n",
        "  predicted_sentence = [decoder_op_tokenizer.index_word[pred] for pred in prediction]\n",
        "  # call plot_attention\n",
        "  if visualize_attention == True:\n",
        "    attention_weights_numpy = np.squeeze(np.asarray(attention_weights_lst), axis=(1, 3))\n",
        "    plot_attention(attention_weights_numpy, actual_sentence, predicted_sentence)\n",
        "  return predicted_sentence"
      ]
    },
    {
      "cell_type": "code",
      "execution_count": null,
      "metadata": {
        "colab": {
          "base_uri": "https://localhost:8080/",
          "height": 610
        },
        "id": "9CvDbcK5EdNc",
        "outputId": "60bf004c-c50e-4992-c3a2-4e0541ac2e5d"
      },
      "outputs": [
        {
          "data": {
            "application/vnd.google.colaboratory.intrinsic+json": {
              "type": "string"
            },
            "text/plain": [
              "\"what's your favorite color of the station <end>\""
            ]
          },
          "execution_count": 223,
          "metadata": {},
          "output_type": "execute_result"
        },
        {
          "data": {
            "image/png": "[encoded data removed]",
            "text/plain": [
              "<Figure size 720x720 with 1 Axes>"
            ]
          },
          "metadata": {},
          "output_type": "display_data"
        }
      ],
      "source": [
        "\" \".join(predict(test_encoder_padded[0], visualize_attention=True))"
      ]
    },
    {
      "cell_type": "markdown",
      "metadata": {
        "id": "jmxIVOOQPWMu"
      },
      "source": [
        "<font color='blue'>**Calculate BLEU score**</font>"
      ]
    },
    {
      "cell_type": "code",
      "execution_count": null,
      "metadata": {
        "id": "4Rh9_w79M5JO"
      },
      "outputs": [],
      "source": [
        "#Compile and train your model on general scoring function.\n",
        "# Visualize few sentences randomly in Test data\n",
        "# Predict on 1000 random sentences on test data and calculate the average BLEU score of these sentences.\n",
        "# https://www.nltk.org/_modules/nltk/translate/bleu_score.html\n",
        "np.random.seed(101)\n",
        "indexes = np.random.permutation(1000)\n",
        "predicted_thousand_sentences = [\" \".join(predict(test_encoder_padded[index], visualize_attention=False)) for index in indexes]\n",
        "original_thousand_sentences = [X_test['english'].iloc[index] for index in indexes]"
      ]
    },
    {
      "cell_type": "code",
      "execution_count": null,
      "metadata": {
        "colab": {
          "base_uri": "https://localhost:8080/"
        },
        "id": "BQnp-XO2aquV",
        "outputId": "89f89076-7021-416e-a682-d9d5d5341765"
      },
      "outputs": [
        {
          "name": "stderr",
          "output_type": "stream",
          "text": [
            "/usr/local/lib/python3.7/dist-packages/nltk/translate/bleu_score.py:490: UserWarning: \n",
            "Corpus/Sentence contains 0 counts of 2-gram overlaps.\n",
            "BLEU scores might be undesirable; use SmoothingFunction().\n",
            "  warnings.warn(_msg)\n"
          ]
        },
        {
          "name": "stdout",
          "output_type": "stream",
          "text": [
            "0.7859763326731088\n"
          ]
        }
      ],
      "source": [
        "import nltk.translate.bleu_score as bleu\n",
        "avg_bleu = sum([bleu.sentence_bleu(reference, translated) for reference, translated in zip(original_thousand_sentences, predicted_thousand_sentences)]) / 1000\n",
        "print(avg_bleu)"
      ]
    },
    {
      "cell_type": "markdown",
      "metadata": {
        "id": "SWg2ferDQvT3"
      },
      "source": [
        "<font color='blue'>**Repeat the same steps for General scoring function**</font>"
      ]
    },
    {
      "cell_type": "code",
      "execution_count": null,
      "metadata": {
        "id": "aelgKwYYbITB"
      },
      "outputs": [],
      "source": [
        "tf.keras.backend.clear_session()\n",
        "\n",
        "import os\n",
        "import datetime\n",
        "\n",
        "logdir = os.path.join(\"general_attention_encoder_decoder_tensorboard_logs\", datetime.datetime.now().strftime(\"%Y%m%d-%H%M%S\"))\n",
        "tensorboard_callback = tf.keras.callbacks.TensorBoard(logdir, histogram_freq=1)"
      ]
    },
    {
      "cell_type": "code",
      "execution_count": null,
      "metadata": {
        "id": "C8XfSYNHa5gG"
      },
      "outputs": [],
      "source": [
        "params = dict()\n",
        "params['input_vocab_size'] = vocab_size_encoder\n",
        "params['encoder_embedding_dim'] = 100\n",
        "params['lstm_size'] = 64\n",
        "params['encoder_input_length'] = 20\n",
        "params['scoring_function'] = 'general'\n",
        "params['attention_units'] = 64\n",
        "\n",
        "params['output_vocab_size'] = vocab_size_decoder_ip\n",
        "params['decoder_embedding_dim'] = 100\n",
        "params['decoder_input_length'] = 20\n",
        "\n",
        "model = encoder_decoder(params)\n",
        "model.compile(optimizer=tf.keras.optimizers.Adam(), loss=loss_function, run_eagerly=True)"
      ]
    },
    {
      "cell_type": "code",
      "execution_count": null,
      "metadata": {
        "colab": {
          "background_save": true,
          "base_uri": "https://localhost:8080/"
        },
        "id": "TblNiYfKa_YG",
        "outputId": "068e6785-bea6-47df-9138-5c5f6fe55523"
      },
      "outputs": [
        {
          "name": "stdout",
          "output_type": "stream",
          "text": [
            "Epoch 1/10\n",
            "4416/4416 [==============================] - 2502s 536ms/step - loss: 0.3300 - val_loss: 0.2597\n",
            "Epoch 2/10\n",
            "4416/4416 [==============================] - 2294s 519ms/step - loss: 0.2217 - val_loss: 0.1935\n",
            "Epoch 3/10\n",
            "4416/4416 [==============================] - 2257s 511ms/step - loss: 0.1649 - val_loss: 0.1463\n",
            "Epoch 4/10\n",
            "4416/4416 [==============================] - 2221s 503ms/step - loss: 0.1258 - val_loss: 0.1194\n",
            "Epoch 5/10\n",
            "4416/4416 [==============================] - 2272s 514ms/step - loss: 0.1016 - val_loss: 0.1038\n",
            "Epoch 6/10\n",
            "4416/4416 [==============================] - 2277s 516ms/step - loss: 0.0862 - val_loss: 0.0937\n",
            "Epoch 7/10\n",
            "4416/4416 [==============================] - 2285s 517ms/step - loss: 0.0755 - val_loss: 0.0868\n",
            "Epoch 8/10\n",
            "4416/4416 [==============================] - 2243s 508ms/step - loss: 0.0673 - val_loss: 0.0824\n",
            "Epoch 9/10\n",
            "4416/4416 [==============================] - 2207s 500ms/step - loss: 0.0610 - val_loss: 0.0781\n",
            "Epoch 10/10\n",
            "4416/4416 [==============================] - 2186s 495ms/step - loss: 0.0562 - val_loss: 0.0754\n"
          ]
        },
        {
          "data": {
            "text/plain": [
              "<keras.callbacks.History at 0x7f6d402d6650>"
            ]
          },
          "execution_count": null,
          "metadata": {},
          "output_type": "execute_result"
        }
      ],
      "source": [
        "!rm -rf general_attention_encoder_decoder_tensorboard_logs\n",
        "# validation_data=([test_encoder_padded, test_decoder_padded_ip], test_decoder_padded_op)\n",
        "model.fit([train_encoder_padded, train_decoder_padded_ip], train_decoder_padded_op, epochs=10, batch_size=64,\n",
        "          validation_data=([test_encoder_padded, test_decoder_padded_ip], test_decoder_padded_op),\n",
        "          callbacks=[tensorboard_callback])"
      ]
    },
    {
      "cell_type": "markdown",
      "source": [
        "General-bsaed attention:\n",
        "\n",
        "\n",
        "\n",
        "1.   It is the multiplication between encoder output state and output of fully connected (Dense) layer of current decoder state.\n",
        "2.   The shape of encoder output states is (batch_size, input_length, lstm_units).\n",
        "3.   The shape of the decoder's current state is (batch_size, lstm_units).\n",
        "4.   We add another dimension at axis=1 in the current decoder state to make the multiplication product easier.\n",
        "5.   The softmax function passes the Multiplicative output to get attention weights.\n",
        "6.   A context vector is calculated by the Sum Of Product (SOP) between encoder output states and attention weights.\n",
        "\n",
        "\n",
        "\n"
      ],
      "metadata": {
        "id": "OAC5_6z1DMaq"
      }
    },
    {
      "cell_type": "code",
      "execution_count": null,
      "metadata": {
        "colab": {
          "background_save": true
        },
        "id": "TLwEo0TbCkHl",
        "outputId": "179a5593-abcc-483c-aaf1-00c14dad9c2c"
      },
      "outputs": [
        {
          "data": {
            "image/png": "[encoded data removed]",
            "text/plain": [
              "<Figure size 720x720 with 1 Axes>"
            ]
          },
          "metadata": {},
          "output_type": "display_data"
        }
      ],
      "source": [
        "predicted = \" \".join(predict(test_encoder_padded[0], visualize_attention=True))"
      ]
    },
    {
      "cell_type": "code",
      "execution_count": null,
      "metadata": {
        "colab": {
          "background_save": true
        },
        "id": "1ZILzUyHCpDD"
      },
      "outputs": [],
      "source": [
        "np.random.seed(101)\n",
        "indexes = np.random.permutation(1000)\n",
        "predicted_thousand_sentences = [\" \".join(predict(test_encoder_padded[index], visualize_attention=False)) for index in indexes]\n",
        "original_thousand_sentences = [X_test['english'].iloc[index] for index in indexes]"
      ]
    },
    {
      "cell_type": "code",
      "execution_count": null,
      "metadata": {
        "colab": {
          "background_save": true
        },
        "id": "nzXfnoNrCwOB",
        "outputId": "4652a453-bd55-4b96-923f-ef830ccb1f8c"
      },
      "outputs": [
        {
          "name": "stderr",
          "output_type": "stream",
          "text": [
            "/usr/local/lib/python3.7/dist-packages/nltk/translate/bleu_score.py:490: UserWarning: \n",
            "Corpus/Sentence contains 0 counts of 2-gram overlaps.\n",
            "BLEU scores might be undesirable; use SmoothingFunction().\n",
            "  warnings.warn(_msg)\n"
          ]
        },
        {
          "name": "stdout",
          "output_type": "stream",
          "text": [
            "0.8407918975748012\n"
          ]
        }
      ],
      "source": [
        "import nltk.translate.bleu_score as bleu\n",
        "avg_bleu = sum([bleu.sentence_bleu(reference, translated) for reference, translated in zip(original_thousand_sentences, predicted_thousand_sentences)]) / 1000\n",
        "print(avg_bleu)"
      ]
    },
    {
      "cell_type": "markdown",
      "metadata": {
        "id": "VB1jRUqZQ9AM"
      },
      "source": [
        "<font color='blue'>**Repeat the same steps for Concat scoring function**</font>"
      ]
    },
    {
      "cell_type": "code",
      "execution_count": null,
      "metadata": {
        "id": "1110FSUjCzyz"
      },
      "outputs": [],
      "source": [
        "tf.keras.backend.clear_session()\n",
        "\n",
        "import os\n",
        "import datetime\n",
        "\n",
        "logdir = os.path.join(\"concat_attention_encoder_decoder_tensorboard_logs\", datetime.datetime.now().strftime(\"%Y%m%d-%H%M%S\"))\n",
        "tensorboard_callback = tf.keras.callbacks.TensorBoard(logdir, histogram_freq=1)"
      ]
    },
    {
      "cell_type": "code",
      "execution_count": null,
      "metadata": {
        "id": "WQp5393nC6bp"
      },
      "outputs": [],
      "source": [
        "params = dict()\n",
        "params['input_vocab_size'] = vocab_size_encoder\n",
        "params['encoder_embedding_dim'] = 100\n",
        "params['lstm_size'] = 64\n",
        "params['encoder_input_length'] = 20\n",
        "params['scoring_function'] = 'concat'\n",
        "params['attention_units'] = 64\n",
        "\n",
        "params['output_vocab_size'] = vocab_size_decoder_ip\n",
        "params['decoder_embedding_dim'] = 100\n",
        "params['decoder_input_length'] = 20\n",
        "\n",
        "model = encoder_decoder(params)\n",
        "model.compile(optimizer=tf.keras.optimizers.Adam(), loss=loss_function, run_eagerly=True)"
      ]
    },
    {
      "cell_type": "code",
      "execution_count": null,
      "metadata": {
        "colab": {
          "background_save": true,
          "base_uri": "https://localhost:8080/"
        },
        "id": "sYrs1veVDA43",
        "outputId": "87454edc-fe97-4744-918d-b9db261ac3a1"
      },
      "outputs": [
        {
          "name": "stdout",
          "output_type": "stream",
          "text": [
            "Epoch 1/10\n",
            "4416/4416 [==============================] - 2559s 547ms/step - loss: 0.3178 - val_loss: 0.2529\n",
            "Epoch 2/10\n",
            "4416/4416 [==============================] - 2410s 546ms/step - loss: 0.2231 - val_loss: 0.1944\n",
            "Epoch 3/10\n",
            "4416/4416 [==============================] - 2378s 538ms/step - loss: 0.1698 - val_loss: 0.1508\n",
            "Epoch 4/10\n",
            "4416/4416 [==============================] - 2402s 544ms/step - loss: 0.1302 - val_loss: 0.1212\n",
            "Epoch 5/10\n",
            "4416/4416 [==============================] - 2383s 540ms/step - loss: 0.1036 - val_loss: 0.1035\n",
            "Epoch 6/10\n",
            "4416/4416 [==============================] - 2424s 549ms/step - loss: 0.0857 - val_loss: 0.0914\n",
            "Epoch 7/10\n",
            "4416/4416 [==============================] - 2378s 538ms/step - loss: 0.0734 - val_loss: 0.0830\n",
            "Epoch 8/10\n",
            "4416/4416 [==============================] - 2372s 537ms/step - loss: 0.0644 - val_loss: 0.0777\n",
            "Epoch 9/10\n",
            "4416/4416 [==============================] - 2402s 544ms/step - loss: 0.0576 - val_loss: 0.0734\n",
            "Epoch 10/10\n",
            "4416/4416 [==============================] - 2361s 535ms/step - loss: 0.0522 - val_loss: 0.0711\n"
          ]
        },
        {
          "data": {
            "text/plain": [
              "<keras.callbacks.History at 0x7f0fa8615850>"
            ]
          },
          "execution_count": null,
          "metadata": {},
          "output_type": "execute_result"
        }
      ],
      "source": [
        "!rm -rf concat_attention_encoder_decoder_tensorboard_logs\n",
        "model.fit([train_encoder_padded, train_decoder_padded_ip], train_decoder_padded_op, epochs=10, batch_size=64,\n",
        "          validation_data=([test_encoder_padded, test_decoder_padded_ip], test_decoder_padded_op),\n",
        "          callbacks=[tensorboard_callback])"
      ]
    },
    {
      "cell_type": "markdown",
      "source": [
        "Concat-based attention:\n",
        "\n",
        "\n",
        "\n",
        "1.   The summation of output between two dense layers (encoder output and current decoder state) is passed on to the tanh function, further passed via the third fully connected layer.\n",
        "2.   The shape of encoder output states is (batch_size, input_length, lstm_units).\n",
        "3.   The shape of the decoder's current state is (batch_size, lstm_units).\n",
        "4.   We add another dimension at axis=1 in the current decoder state to make the multiplication product easier.\n",
        "5.   The softmax function passes the fully connected output to get attention weights.\n",
        "6. A context vector is calculated by the Sum Of Product (SOP) between encoder output states and attention weights.\n",
        "\n"
      ],
      "metadata": {
        "id": "VC2WOCWgDq2P"
      }
    },
    {
      "cell_type": "code",
      "execution_count": null,
      "metadata": {
        "id": "OJiOiDHTDEwC"
      },
      "outputs": [],
      "source": [
        "predicted = \" \".join(predict(test_encoder_padded[0], visualize_attention=True))"
      ]
    },
    {
      "cell_type": "code",
      "execution_count": null,
      "metadata": {
        "id": "7x7UdFO_JUZJ"
      },
      "outputs": [],
      "source": [
        "np.random.seed(101)\n",
        "indexes = np.random.permutation(1000)\n",
        "predicted_thousand_sentences = [\" \".join(predict(test_encoder_padded[index], visualize_attention=False)) for index in indexes]\n",
        "original_thousand_sentences = [X_test['english'].iloc[index] for index in indexes]"
      ]
    },
    {
      "cell_type": "code",
      "execution_count": null,
      "metadata": {
        "id": "1kN9ZWViQNMB"
      },
      "outputs": [],
      "source": [
        "#Compile and train your model on concat scoring function.\n",
        "# Visualize few sentences randomly in Test data\n",
        "# Predict on 1000 random sentences on test data and calculate the average BLEU score of these sentences.\n",
        "# https://www.nltk.org/_modules/nltk/translate/bleu_score.html\n",
        "\n",
        "import nltk.translate.bleu_score as bleu\n",
        "avg_bleu = sum([bleu.sentence_bleu(reference, translated) for reference, translated in zip(original_thousand_sentences, predicted_thousand_sentences)]) / 1000\n",
        "print(avg_bleu)"
      ]
    },
    {
      "cell_type": "code",
      "execution_count": null,
      "metadata": {
        "id": "Ff1lV0ITM6_p"
      },
      "outputs": [],
      "source": [
        "# Write your observations on each of the scoring function"
      ]
    },
    {
      "cell_type": "markdown",
      "source": [
        "From the training observation, it looks like concat based attention performs better than comparing to general and dot-based. There is an apparent reason for that: Concat has more learning parameters, as it has a more dense layer. "
      ],
      "metadata": {
        "id": "25dtXL2oFWvR"
      }
    }
  ],
  "metadata": {
    "accelerator": "GPU",
    "colab": {
      "collapsed_sections": [],
      "machine_shape": "hm",
      "name": "Seq2SeqImplementation.ipynb",
      "provenance": [],
      "include_colab_link": true
    },
    "kernelspec": {
      "display_name": "Python 3",
      "language": "python",
      "name": "python3"
    },
    "language_info": {
      "codemirror_mode": {
        "name": "ipython",
        "version": 3
      },
      "file_extension": ".py",
      "mimetype": "text/x-python",
      "name": "python",
      "nbconvert_exporter": "python",
      "pygments_lexer": "ipython3",
      "version": "3.6.8"
    }
  },
  "nbformat": 4,
  "nbformat_minor": 0
}